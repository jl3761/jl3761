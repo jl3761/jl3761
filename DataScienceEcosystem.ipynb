{
 "cells": [
  {
   "cell_type": "markdown",
   "id": "5a42fa52-1a77-4282-8aab-f021fff06676",
   "metadata": {},
   "source": [
    "# Data Science Tools and Ecosystem"
   ]
  },
  {
   "cell_type": "markdown",
   "id": "651bf052-8575-449b-b63b-b3a589316368",
   "metadata": {},
   "source": [
    "#### In this notebook, Data Science Tools and Ecosystem are summarized."
   ]
  },
  {
   "cell_type": "markdown",
   "id": "0c51a84d-46e0-4b1f-a77a-abf4e8426424",
   "metadata": {},
   "source": [
    "Some of the popular languages that Data Scientists use are:\n",
    "1. Python\n",
    "2. R\n",
    "3. Scala"
   ]
  },
  {
   "cell_type": "markdown",
   "id": "f186f785-ab38-4b72-b9f6-6678d6453db7",
   "metadata": {},
   "source": [
    "Some of the commonly used libraries used by Data Scientists include:\n",
    "--------------------------------------------------------------------\n",
    "1. Pandas\n",
    "2. SciKit\n",
    "3. ggplot2"
   ]
  },
  {
   "cell_type": "markdown",
   "id": "45a507cc-9986-4e00-a34c-7ed1253ffcd6",
   "metadata": {},
   "source": [
    "| Data Science Tools |\n",
    "|---------------|\n",
    "| Apache Spark |\n",
    "| Tensor Flow |\n",
    "| Apache Hadoop |\n"
   ]
  },
  {
   "cell_type": "markdown",
   "id": "b7fd0bc6-372b-4b20-904d-3868c6d7de34",
   "metadata": {},
   "source": [
    "### Below are a few examples of evaluating arithmetic expressions in Python.\n"
   ]
  },
  {
   "cell_type": "code",
   "execution_count": 17,
   "id": "9b79aac0-a0e9-4a1d-98b8-a773b4b3008c",
   "metadata": {},
   "outputs": [
    {
     "data": {
      "text/plain": [
       "17"
      ]
     },
     "execution_count": 17,
     "metadata": {},
     "output_type": "execute_result"
    }
   ],
   "source": [
    "# This a simple arithmetic expression to mutiply then add integers\n",
    "(3 * 4) + 5"
   ]
  },
  {
   "cell_type": "code",
   "execution_count": 21,
   "id": "98aaa760-a486-434b-9033-db4c20178460",
   "metadata": {},
   "outputs": [
    {
     "data": {
      "text/plain": [
       "3.3333333333333335"
      ]
     },
     "execution_count": 21,
     "metadata": {},
     "output_type": "execute_result"
    }
   ],
   "source": [
    "# This will convert 200 minutes to hours by diving by 60\n",
    "200/60"
   ]
  },
  {
   "cell_type": "markdown",
   "id": "911ed87c-dbbc-42f5-8113-d54645683fab",
   "metadata": {},
   "source": [
    "**Objectives:**\n",
    "- List popular languages for Data Science\n",
    "- Identify common data science libraries\n",
    "- Demonstrate arithmetic operations in Python\n",
    "- List popular data science development tools"
   ]
  },
  {
   "cell_type": "markdown",
   "id": "115b43b0-d1ad-40f6-8a4c-f8a2c34213ea",
   "metadata": {},
   "source": [
    "## Author\n",
    "James Lauer"
   ]
  },
  {
   "cell_type": "code",
   "execution_count": null,
   "id": "64c61d01-d1e1-4f2a-9e17-14a5d43dc5a5",
   "metadata": {},
   "outputs": [],
   "source": []
  }
 ],
 "metadata": {
  "kernelspec": {
   "display_name": "Python [conda env:base] *",
   "language": "python",
   "name": "conda-base-py"
  },
  "language_info": {
   "codemirror_mode": {
    "name": "ipython",
    "version": 3
   },
   "file_extension": ".py",
   "mimetype": "text/x-python",
   "name": "python",
   "nbconvert_exporter": "python",
   "pygments_lexer": "ipython3",
   "version": "3.12.7"
  }
 },
 "nbformat": 4,
 "nbformat_minor": 5
}
